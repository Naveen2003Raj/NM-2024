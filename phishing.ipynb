{
 "cells": [
  {
   "cell_type": "code",
   "execution_count": 1,
   "metadata": {},
   "outputs": [
    {
     "name": "stdout",
     "output_type": "stream",
     "text": [
      "This URL is safe.\n"
     ]
    }
   ],
   "source": [
    "# List of known phishing domains (for demonstration purposes)\n",
    "known_phishing_domains = [\"phishingsite.com\", \"fakebanklogin.com\", \"scamoffers.net\"]\n",
    "\n",
    "# Function to check if a URL is a known phishing domain\n",
    "def is_phishing_url(url):\n",
    "    domain = url.split('/')[2]  # Extract the domain from the URL\n",
    "    return domain in known_phishing_domains\n",
    "\n",
    "# Example usage\n",
    "url_to_check = \"http://www.fakebanklogin.com/login\"\n",
    "if is_phishing_url(url_to_check):\n",
    "    print(\"Warning: This URL may be a phishing attempt!\")\n",
    "else:\n",
    "    print(\"This URL is safe.\")\n",
    "\n",
    "    "
   ]
  },
  {
   "cell_type": "code",
   "execution_count": 3,
   "metadata": {},
   "outputs": [
    {
     "name": "stdout",
     "output_type": "stream",
     "text": [
      "Enter the URL to check:  http://www.phishingsite.com\n",
      "This URL is not recognized as a known phishing site.\n"
     ]
    }
   ],
   "source": [
    "# List of known phishing URLs for demonstration purposes\n",
    "known_phishing_urls = [\n",
    "    'http://www.phishingsite.com',\n",
    "    'http://www.fakebanklogin.com',\n",
    "    'http://www.scamoffers.net'\n",
    "]\n",
    "\n",
    "# Function to check if a URL is a known phishing domain\n",
    "def is_phishing_url(url):\n",
    "    # Extract the domain from the URL\n",
    "    domain = url.split('/')[2] if '://' in url else url.split('/')[0]\n",
    "    return domain in known_phishing_urls\n",
    "\n",
    "# Example usage\n",
    "url_to_check = input(\"Enter the URL to check: \")\n",
    "if is_phishing_url(url_to_check):\n",
    "    print(\"Warning: This URL may be a phishing attempt!\")\n",
    "else:\n",
    "    print(\"This URL is not recognized as a known phishing site.\")"
   ]
  },
  {
   "cell_type": "code",
   "execution_count": 4,
   "metadata": {},
   "outputs": [
    {
     "name": "stdout",
     "output_type": "stream",
     "text": [
      "Verification code: 2172\n",
      "Enter the verification code sent to your email: 2172\n",
      "Email is safe. Proceed with caution.\n"
     ]
    }
   ],
   "source": [
    "import random\n",
    "\n",
    "class PhishingAttack:\n",
    "    def __init__(self, email, password):\n",
    "        self.email = email\n",
    "        self.password = password\n",
    "\n",
    "    def send_phishing_email(self):\n",
    "        # Simulate sending a phishing email\n",
    "        phishing_email = f\"Dear {self.email}, please update your password at example.com\"\n",
    "        return phishing_email\n",
    "\n",
    "class EmailFiltering:\n",
    "    def __init__(self):\n",
    "        self.blacklist = [\"updatepassword.com\", \"phishingsite.com\"]\n",
    "\n",
    "    def filter_email(self, email_content):\n",
    "        # Check if email contains blacklisted URLs\n",
    "        for url in self.blacklist:\n",
    "            if url in email_content:\n",
    "                return True\n",
    "        return False\n",
    "\n",
    "class TwoFactorAuthentication:\n",
    "    def __init__(self):\n",
    "        self.enabled = True\n",
    "\n",
    "    def verify_identity(self):\n",
    "        # Simulate two-factor authentication\n",
    "        code = random.randint(1000, 9999)\n",
    "        print(f\"Verification code: {code}\")  # For simulation purposes only\n",
    "        user_input = input(\"Enter the verification code sent to your email: \")\n",
    "        if int(user_input) == code:\n",
    "            return True\n",
    "        else:\n",
    "            return False\n",
    "\n",
    "# Simulation\n",
    "email = \"user@example.com\"\n",
    "password = \"password123\"\n",
    "phishing_attack = PhishingAttack(email, password)\n",
    "email_content = phishing_attack.send_phishing_email()\n",
    "\n",
    "email_filtering = EmailFiltering()\n",
    "if email_filtering.filter_email(email_content):\n",
    "    print(\"Phishing email detected and blocked.\")\n",
    "else:\n",
    "    two_factor_auth = TwoFactorAuthentication()\n",
    "    if two_factor_auth.verify_identity():\n",
    "        print(\"Email is safe. Proceed with caution.\")\n",
    "    else:\n",
    "        print(\"Email could be a phishing attempt. Do not proceed.\")\n"
   ]
  },
  {
   "cell_type": "code",
   "execution_count": null,
   "metadata": {
    "collapsed": true
   },
   "outputs": [],
   "source": []
  }
 ],
 "metadata": {
  "kernelspec": {
   "display_name": "Python 3",
   "language": "python",
   "name": "python3"
  },
  "language_info": {
   "codemirror_mode": {
    "name": "ipython",
    "version": 3
   },
   "file_extension": ".py",
   "mimetype": "text/x-python",
   "name": "python",
   "nbconvert_exporter": "python",
   "pygments_lexer": "ipython3",
   "version": "3.6.2"
  }
 },
 "nbformat": 4,
 "nbformat_minor": 2
}
